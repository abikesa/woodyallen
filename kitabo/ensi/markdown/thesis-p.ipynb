{
 "cells": [
  {
   "cell_type": "markdown",
   "metadata": {},
   "source": [
    "# Arte-Scienza\n",
    "\n",
    " <iframe width=\"100%\" height=\"600\" src=\"https://www.youtube.com/embed/GOGru_4z1Vc\" title=\"YouTube video player\" frameborder=\"0\" allow=\"accelerometer; autoplay; clipboard-write; encrypted-media; gyroscope; picture-in-picture; web-share\" allowfullscreen></iframe>\n",
    "\n",
    "```{admonition} Autoencoder\n",
    ":class: tip\n",
    "I feel that `communication` should be under `process-quality`. Fig1 of thesis places it under`time-on-tasks`.\n",
    "```\n",
    "\n",
    "\n",
    "                                       1. fo(t)\n",
    "                                               \\\n",
    "                                  2. So(t) ->  4. X -> 5. b -> 6. SV\n",
    "                                               /\n",
    "                                               3. ho(t)\n",
    "\n",
    "\n",
    "### Biology 1, 2, 3\n",
    "- $h(t)=\\frac{f(t)}{S(t)}$\n",
    "\n",
    "### Social 4\n",
    "- $X$\n",
    "\n",
    "### Personal 5, 6\n",
    "- $\\beta \\cdot \\ SV'$\n",
    "\n",
    "\n",
    "\n",
    "                        1. Chaos/Goal-Conflicts\n",
    "                                               \\\n",
    "                    2. Frenzy/Time-on-Tasks ->  4. Dionysian/Process-Qual -> 5. Algorithm/Contract-Type -> 6. Binary/Digitization-User\n",
    "                                               /\n",
    "                                               3. Emotion/Task-Programmability\n"
   ]
  }
 ],
 "metadata": {
  "kernelspec": {
   "display_name": "Python 3",
   "language": "python",
   "name": "python3"
  },
  "language_info": {
   "codemirror_mode": {
    "name": "ipython",
    "version": 3
   },
   "file_extension": ".py",
   "mimetype": "text/x-python",
   "name": "python",
   "nbconvert_exporter": "python",
   "pygments_lexer": "ipython3",
   "version": "3.12.4"
  },
  "widgets": {
   "application/vnd.jupyter.widget-state+json": {
    "state": {},
    "version_major": 2,
    "version_minor": 0
   }
  }
 },
 "nbformat": 4,
 "nbformat_minor": 4
}
