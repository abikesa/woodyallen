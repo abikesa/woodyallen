{
 "cells": [
  {
   "cell_type": "markdown",
   "metadata": {},
   "source": [
    "# Arte-Scienza\n",
    "\n",
    " <iframe width=\"100%\" height=\"600\" src=\"https://www.youtube.com/embed/GOGru_4z1Vc\" title=\"YouTube video player\" frameborder=\"0\" allow=\"accelerometer; autoplay; clipboard-write; encrypted-media; gyroscope; picture-in-picture; web-share\" allowfullscreen></iframe>\n",
    "\n",
    "```{admonition} Autoencoder\n",
    ":class: tip\n",
    "Witness: life, memory, emotion, collective, science, morality are captured using propensities. For instance, $\\displaystyle \\int\\! f(t) = F(t)$ is truer to life than $\\lim_{t \\to 0} f(t)$, which is for brooders like Hamlet. No wonder his dad asked \"why is it so particular with thee?\" Oversampling a specific life experience instead of `moving on` with life, a cumulative density function or $1-F(t)$\n",
    "```\n",
    "\n",
    "\n",
    "                                       1. fo(t)\n",
    "                                               \\\n",
    "                                  2. So(t) ->  4. X -> 5. b -> 6. SV\n",
    "                                               /\n",
    "                                               3. ho(t)\n",
    "\n",
    "\n",
    "### Biology 1, 2, 3\n",
    "- $h(t)=\\frac{f(t)}{S(t)}$\n",
    "\n",
    "### Social 4\n",
    "- $X$\n",
    "\n",
    "### Personal 5, 6\n",
    "- $\\beta \\cdot \\ SV'$\n",
    "\n",
    "\n",
    "\n",
    "                                       1. Chaos\n",
    "                                               \\\n",
    "                                  2. Frenzy ->  4. Dionysian -> 5. Algorithm -> 6. Binary\n",
    "                                               /\n",
    "                                               3. Emotion\n"
   ]
  }
 ],
 "metadata": {
  "kernelspec": {
   "display_name": "Python 3",
   "language": "python",
   "name": "python3"
  },
  "language_info": {
   "codemirror_mode": {
    "name": "ipython",
    "version": 3
   },
   "file_extension": ".py",
   "mimetype": "text/x-python",
   "name": "python",
   "nbconvert_exporter": "python",
   "pygments_lexer": "ipython3",
   "version": "3.12.4"
  },
  "widgets": {
   "application/vnd.jupyter.widget-state+json": {
    "state": {},
    "version_major": 2,
    "version_minor": 0
   }
  }
 },
 "nbformat": 4,
 "nbformat_minor": 4
}
